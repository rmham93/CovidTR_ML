{
 "cells": [
  {
   "cell_type": "code",
   "execution_count": 1,
   "outputs": [],
   "source": [
    "import sklearn\n",
    "from sklearn import linear_model\n",
    "from sklearn.preprocessing import MinMaxScaler\n",
    "import pandas as pd\n",
    "import tensorflow as tf \n",
    "import numpy as np"
   ],
   "metadata": {
    "collapsed": false,
    "pycharm": {
     "name": "#%%\n"
    }
   }
  },
  {
   "cell_type": "markdown",
   "source": [
    "#### Preprocessing Step 1"
   ],
   "metadata": {
    "collapsed": false,
    "pycharm": {
     "name": "#%% md\n"
    }
   }
  },
  {
   "cell_type": "code",
   "source": [],
   "metadata": {
    "collapsed": false,
    "pycharm": {
     "name": "#%%\n"
    }
   },
   "execution_count": 1,
   "outputs": []
  },
  {
   "cell_type": "markdown",
   "source": [
    "##### Read data"
   ],
   "metadata": {
    "collapsed": false
   }
  },
  {
   "cell_type": "code",
   "execution_count": 2,
   "outputs": [
    {
     "data": {
      "text/plain": "        tarih  gunluk_test  gunluk_vaka  gunluk_vefat  gunluk_iyilesen  \\\n0  10.10.2020      113.102        1.649          56.0            1.391   \n1  09.10.2020      115.295        1.629          55.0            1.402   \n2  08.10.2020      117.101        1.615          58.0            1.398   \n3  07.10.2020      116.608        1.581          56.0            1.355   \n4  06.10.2020      112.421        1.511          55.0            1.229   \n\n  toplam_test  toplam_vaka  toplam_vefat  toplam_iyilesen  toplam_yogun_bakim  \\\n0  11.506.414      334.031         8.778          293.145                 NaN   \n1  11.393.312      332.382         8.722          291.754                 NaN   \n2  11.278.047      330.753         8.667          290.352                 NaN   \n3  11.160.946      329.138         8.609          288.954                 NaN   \n4  11.044.338      327.557         8.553          287.599                 NaN   \n\n   toplam_entube hastalarda_zaturre_oran  agir_hasta_sayisi  \\\n0            NaN                     6.2              1.414   \n1            NaN                     6.2              1.398   \n2            NaN                     6.2              1.403   \n3            NaN                     6.2              1.411   \n4            NaN                     6.2              1.414   \n\n   yatak_doluluk_orani  eriskin_yogun_bakim_doluluk_orani  \\\n0                 48.6                               68.8   \n1                 48.6                               68.8   \n2                 48.6                               68.8   \n3                 48.6                               68.8   \n4                 48.6                               68.8   \n\n   ventilator_doluluk_orani  ortalama_filyasyon_suresi  \\\n0                      31.4                        NaN   \n1                      31.4                        NaN   \n2                      31.4                        NaN   \n3                      31.4                        NaN   \n4                      31.4                        NaN   \n\n   ortalama_temasli_tespit_suresi  filyasyon_orani  \n0                             7.6             99.3  \n1                             7.6             99.3  \n2                             7.6             99.3  \n3                             7.6             99.3  \n4                             7.6             99.3  ",
      "text/html": "<div>\n<style scoped>\n    .dataframe tbody tr th:only-of-type {\n        vertical-align: middle;\n    }\n\n    .dataframe tbody tr th {\n        vertical-align: top;\n    }\n\n    .dataframe thead th {\n        text-align: right;\n    }\n</style>\n<table border=\"1\" class=\"dataframe\">\n  <thead>\n    <tr style=\"text-align: right;\">\n      <th></th>\n      <th>tarih</th>\n      <th>gunluk_test</th>\n      <th>gunluk_vaka</th>\n      <th>gunluk_vefat</th>\n      <th>gunluk_iyilesen</th>\n      <th>toplam_test</th>\n      <th>toplam_vaka</th>\n      <th>toplam_vefat</th>\n      <th>toplam_iyilesen</th>\n      <th>toplam_yogun_bakim</th>\n      <th>toplam_entube</th>\n      <th>hastalarda_zaturre_oran</th>\n      <th>agir_hasta_sayisi</th>\n      <th>yatak_doluluk_orani</th>\n      <th>eriskin_yogun_bakim_doluluk_orani</th>\n      <th>ventilator_doluluk_orani</th>\n      <th>ortalama_filyasyon_suresi</th>\n      <th>ortalama_temasli_tespit_suresi</th>\n      <th>filyasyon_orani</th>\n    </tr>\n  </thead>\n  <tbody>\n    <tr>\n      <th>0</th>\n      <td>10.10.2020</td>\n      <td>113.102</td>\n      <td>1.649</td>\n      <td>56.0</td>\n      <td>1.391</td>\n      <td>11.506.414</td>\n      <td>334.031</td>\n      <td>8.778</td>\n      <td>293.145</td>\n      <td>NaN</td>\n      <td>NaN</td>\n      <td>6.2</td>\n      <td>1.414</td>\n      <td>48.6</td>\n      <td>68.8</td>\n      <td>31.4</td>\n      <td>NaN</td>\n      <td>7.6</td>\n      <td>99.3</td>\n    </tr>\n    <tr>\n      <th>1</th>\n      <td>09.10.2020</td>\n      <td>115.295</td>\n      <td>1.629</td>\n      <td>55.0</td>\n      <td>1.402</td>\n      <td>11.393.312</td>\n      <td>332.382</td>\n      <td>8.722</td>\n      <td>291.754</td>\n      <td>NaN</td>\n      <td>NaN</td>\n      <td>6.2</td>\n      <td>1.398</td>\n      <td>48.6</td>\n      <td>68.8</td>\n      <td>31.4</td>\n      <td>NaN</td>\n      <td>7.6</td>\n      <td>99.3</td>\n    </tr>\n    <tr>\n      <th>2</th>\n      <td>08.10.2020</td>\n      <td>117.101</td>\n      <td>1.615</td>\n      <td>58.0</td>\n      <td>1.398</td>\n      <td>11.278.047</td>\n      <td>330.753</td>\n      <td>8.667</td>\n      <td>290.352</td>\n      <td>NaN</td>\n      <td>NaN</td>\n      <td>6.2</td>\n      <td>1.403</td>\n      <td>48.6</td>\n      <td>68.8</td>\n      <td>31.4</td>\n      <td>NaN</td>\n      <td>7.6</td>\n      <td>99.3</td>\n    </tr>\n    <tr>\n      <th>3</th>\n      <td>07.10.2020</td>\n      <td>116.608</td>\n      <td>1.581</td>\n      <td>56.0</td>\n      <td>1.355</td>\n      <td>11.160.946</td>\n      <td>329.138</td>\n      <td>8.609</td>\n      <td>288.954</td>\n      <td>NaN</td>\n      <td>NaN</td>\n      <td>6.2</td>\n      <td>1.411</td>\n      <td>48.6</td>\n      <td>68.8</td>\n      <td>31.4</td>\n      <td>NaN</td>\n      <td>7.6</td>\n      <td>99.3</td>\n    </tr>\n    <tr>\n      <th>4</th>\n      <td>06.10.2020</td>\n      <td>112.421</td>\n      <td>1.511</td>\n      <td>55.0</td>\n      <td>1.229</td>\n      <td>11.044.338</td>\n      <td>327.557</td>\n      <td>8.553</td>\n      <td>287.599</td>\n      <td>NaN</td>\n      <td>NaN</td>\n      <td>6.2</td>\n      <td>1.414</td>\n      <td>48.6</td>\n      <td>68.8</td>\n      <td>31.4</td>\n      <td>NaN</td>\n      <td>7.6</td>\n      <td>99.3</td>\n    </tr>\n  </tbody>\n</table>\n</div>"
     },
     "execution_count": 2,
     "metadata": {},
     "output_type": "execute_result"
    }
   ],
   "source": [
    "covid_df = pd.read_csv(\"covid.csv\")\n",
    "covid_df.head()"
   ],
   "metadata": {
    "collapsed": false,
    "pycharm": {
     "name": "#%%\n"
    }
   }
  },
  {
   "cell_type": "code",
   "execution_count": 3,
   "outputs": [
    {
     "data": {
      "text/plain": "          tarih  gunluk_test  gunluk_vaka  gunluk_vefat  gunluk_iyilesen  \\\n208  15.03.2020          NaN          NaN           NaN              NaN   \n209  14.03.2020          NaN          NaN           NaN              NaN   \n210  13.03.2020          NaN          NaN           NaN              NaN   \n211  12.03.2020          NaN          NaN           NaN              NaN   \n212  11.03.2020          NaN          NaN           NaN              NaN   \n\n    toplam_test  toplam_vaka  toplam_vefat  toplam_iyilesen  \\\n208         NaN         18.0           NaN              NaN   \n209         NaN          6.0           NaN              NaN   \n210         NaN          5.0           NaN              NaN   \n211         NaN          1.0           NaN              NaN   \n212         NaN          1.0           NaN              NaN   \n\n     toplam_yogun_bakim  toplam_entube hastalarda_zaturre_oran  \\\n208                 NaN            NaN                     NaN   \n209                 NaN            NaN                     NaN   \n210                 NaN            NaN                     NaN   \n211                 NaN            NaN                     NaN   \n212                 NaN            NaN                     NaN   \n\n     agir_hasta_sayisi  yatak_doluluk_orani  \\\n208                NaN                  NaN   \n209                NaN                  NaN   \n210                NaN                  NaN   \n211                NaN                  NaN   \n212                NaN                  NaN   \n\n     eriskin_yogun_bakim_doluluk_orani  ventilator_doluluk_orani  \\\n208                                NaN                       NaN   \n209                                NaN                       NaN   \n210                                NaN                       NaN   \n211                                NaN                       NaN   \n212                                NaN                       NaN   \n\n     ortalama_filyasyon_suresi  ortalama_temasli_tespit_suresi  \\\n208                        NaN                             NaN   \n209                        NaN                             NaN   \n210                        NaN                             NaN   \n211                        NaN                             NaN   \n212                        NaN                             NaN   \n\n     filyasyon_orani  \n208              NaN  \n209              NaN  \n210              NaN  \n211              NaN  \n212              NaN  ",
      "text/html": "<div>\n<style scoped>\n    .dataframe tbody tr th:only-of-type {\n        vertical-align: middle;\n    }\n\n    .dataframe tbody tr th {\n        vertical-align: top;\n    }\n\n    .dataframe thead th {\n        text-align: right;\n    }\n</style>\n<table border=\"1\" class=\"dataframe\">\n  <thead>\n    <tr style=\"text-align: right;\">\n      <th></th>\n      <th>tarih</th>\n      <th>gunluk_test</th>\n      <th>gunluk_vaka</th>\n      <th>gunluk_vefat</th>\n      <th>gunluk_iyilesen</th>\n      <th>toplam_test</th>\n      <th>toplam_vaka</th>\n      <th>toplam_vefat</th>\n      <th>toplam_iyilesen</th>\n      <th>toplam_yogun_bakim</th>\n      <th>toplam_entube</th>\n      <th>hastalarda_zaturre_oran</th>\n      <th>agir_hasta_sayisi</th>\n      <th>yatak_doluluk_orani</th>\n      <th>eriskin_yogun_bakim_doluluk_orani</th>\n      <th>ventilator_doluluk_orani</th>\n      <th>ortalama_filyasyon_suresi</th>\n      <th>ortalama_temasli_tespit_suresi</th>\n      <th>filyasyon_orani</th>\n    </tr>\n  </thead>\n  <tbody>\n    <tr>\n      <th>208</th>\n      <td>15.03.2020</td>\n      <td>NaN</td>\n      <td>NaN</td>\n      <td>NaN</td>\n      <td>NaN</td>\n      <td>NaN</td>\n      <td>18.0</td>\n      <td>NaN</td>\n      <td>NaN</td>\n      <td>NaN</td>\n      <td>NaN</td>\n      <td>NaN</td>\n      <td>NaN</td>\n      <td>NaN</td>\n      <td>NaN</td>\n      <td>NaN</td>\n      <td>NaN</td>\n      <td>NaN</td>\n      <td>NaN</td>\n    </tr>\n    <tr>\n      <th>209</th>\n      <td>14.03.2020</td>\n      <td>NaN</td>\n      <td>NaN</td>\n      <td>NaN</td>\n      <td>NaN</td>\n      <td>NaN</td>\n      <td>6.0</td>\n      <td>NaN</td>\n      <td>NaN</td>\n      <td>NaN</td>\n      <td>NaN</td>\n      <td>NaN</td>\n      <td>NaN</td>\n      <td>NaN</td>\n      <td>NaN</td>\n      <td>NaN</td>\n      <td>NaN</td>\n      <td>NaN</td>\n      <td>NaN</td>\n    </tr>\n    <tr>\n      <th>210</th>\n      <td>13.03.2020</td>\n      <td>NaN</td>\n      <td>NaN</td>\n      <td>NaN</td>\n      <td>NaN</td>\n      <td>NaN</td>\n      <td>5.0</td>\n      <td>NaN</td>\n      <td>NaN</td>\n      <td>NaN</td>\n      <td>NaN</td>\n      <td>NaN</td>\n      <td>NaN</td>\n      <td>NaN</td>\n      <td>NaN</td>\n      <td>NaN</td>\n      <td>NaN</td>\n      <td>NaN</td>\n      <td>NaN</td>\n    </tr>\n    <tr>\n      <th>211</th>\n      <td>12.03.2020</td>\n      <td>NaN</td>\n      <td>NaN</td>\n      <td>NaN</td>\n      <td>NaN</td>\n      <td>NaN</td>\n      <td>1.0</td>\n      <td>NaN</td>\n      <td>NaN</td>\n      <td>NaN</td>\n      <td>NaN</td>\n      <td>NaN</td>\n      <td>NaN</td>\n      <td>NaN</td>\n      <td>NaN</td>\n      <td>NaN</td>\n      <td>NaN</td>\n      <td>NaN</td>\n      <td>NaN</td>\n    </tr>\n    <tr>\n      <th>212</th>\n      <td>11.03.2020</td>\n      <td>NaN</td>\n      <td>NaN</td>\n      <td>NaN</td>\n      <td>NaN</td>\n      <td>NaN</td>\n      <td>1.0</td>\n      <td>NaN</td>\n      <td>NaN</td>\n      <td>NaN</td>\n      <td>NaN</td>\n      <td>NaN</td>\n      <td>NaN</td>\n      <td>NaN</td>\n      <td>NaN</td>\n      <td>NaN</td>\n      <td>NaN</td>\n      <td>NaN</td>\n      <td>NaN</td>\n    </tr>\n  </tbody>\n</table>\n</div>"
     },
     "execution_count": 3,
     "metadata": {},
     "output_type": "execute_result"
    }
   ],
   "source": [
    "covid_df.tail()"
   ],
   "metadata": {
    "collapsed": false,
    "pycharm": {
     "name": "#%%\n"
    }
   }
  },
  {
   "cell_type": "code",
   "execution_count": 4,
   "outputs": [
    {
     "data": {
      "text/plain": "       gunluk_test  gunluk_vaka  gunluk_vefat  gunluk_iyilesen  toplam_vaka  \\\ncount   197.000000   197.000000    197.000000       189.000000   213.000000   \nmean     57.962624   187.135406     44.076142       195.533048   241.901925   \nstd      31.710001   374.503585     30.132857       371.929498   339.238203   \nmin       7.533000     1.003000     14.000000         1.002000     1.000000   \n25%      36.155000     1.368000     19.000000         1.202000   141.475000   \n50%      45.176000     1.642000     29.000000         1.492000   203.456000   \n75%      92.227000     4.062000     63.000000         5.018000   262.507000   \nmax     117.113000   996.000000    127.000000      1382.000000  3629.000000   \n\n       toplam_vefat  toplam_iyilesen  toplam_yogun_bakim  toplam_entube  \\\ncount    207.000000       197.000000          123.000000     123.000000   \nmean      78.424251       175.358041          326.510415     439.190894   \nstd      458.202752        99.540935          387.040743     252.867264   \nmin        1.000000         1.042000            1.018000       1.006000   \n25%        4.475000       114.990000            1.250000     307.000000   \n50%        5.545000       190.390000            1.814000     387.000000   \n75%        6.975000       240.792000          722.500000     555.500000   \nmax     4540.000000       786.000000          998.000000     995.000000   \n\n       agir_hasta_sayisi  yatak_doluluk_orani  \\\ncount          74.000000            10.000000   \nmean          333.234676            48.880000   \nstd           363.907491             0.361478   \nmin             1.017000            48.600000   \n25%             1.405000            48.600000   \n50%             1.598500            48.600000   \n75%           653.750000            49.300000   \nmax           991.000000            49.300000   \n\n       eriskin_yogun_bakim_doluluk_orani  ventilator_doluluk_orani  \\\ncount                          10.000000                 10.000000   \nmean                           68.120000                 31.760000   \nstd                             0.877876                  0.464758   \nmin                            67.100000                 31.400000   \n25%                            67.100000                 31.400000   \n50%                            68.800000                 31.400000   \n75%                            68.800000                 32.300000   \nmax                            68.800000                 32.300000   \n\n       ortalama_filyasyon_suresi  ortalama_temasli_tespit_suresi  \\\ncount                        0.0                       10.000000   \nmean                         NaN                        7.760000   \nstd                          NaN                        0.206559   \nmin                          NaN                        7.600000   \n25%                          NaN                        7.600000   \n50%                          NaN                        7.600000   \n75%                          NaN                        8.000000   \nmax                          NaN                        8.000000   \n\n       filyasyon_orani  \ncount         10.00000  \nmean          99.22000  \nstd            0.10328  \nmin           99.10000  \n25%           99.10000  \n50%           99.30000  \n75%           99.30000  \nmax           99.30000  ",
      "text/html": "<div>\n<style scoped>\n    .dataframe tbody tr th:only-of-type {\n        vertical-align: middle;\n    }\n\n    .dataframe tbody tr th {\n        vertical-align: top;\n    }\n\n    .dataframe thead th {\n        text-align: right;\n    }\n</style>\n<table border=\"1\" class=\"dataframe\">\n  <thead>\n    <tr style=\"text-align: right;\">\n      <th></th>\n      <th>gunluk_test</th>\n      <th>gunluk_vaka</th>\n      <th>gunluk_vefat</th>\n      <th>gunluk_iyilesen</th>\n      <th>toplam_vaka</th>\n      <th>toplam_vefat</th>\n      <th>toplam_iyilesen</th>\n      <th>toplam_yogun_bakim</th>\n      <th>toplam_entube</th>\n      <th>agir_hasta_sayisi</th>\n      <th>yatak_doluluk_orani</th>\n      <th>eriskin_yogun_bakim_doluluk_orani</th>\n      <th>ventilator_doluluk_orani</th>\n      <th>ortalama_filyasyon_suresi</th>\n      <th>ortalama_temasli_tespit_suresi</th>\n      <th>filyasyon_orani</th>\n    </tr>\n  </thead>\n  <tbody>\n    <tr>\n      <th>count</th>\n      <td>197.000000</td>\n      <td>197.000000</td>\n      <td>197.000000</td>\n      <td>189.000000</td>\n      <td>213.000000</td>\n      <td>207.000000</td>\n      <td>197.000000</td>\n      <td>123.000000</td>\n      <td>123.000000</td>\n      <td>74.000000</td>\n      <td>10.000000</td>\n      <td>10.000000</td>\n      <td>10.000000</td>\n      <td>0.0</td>\n      <td>10.000000</td>\n      <td>10.00000</td>\n    </tr>\n    <tr>\n      <th>mean</th>\n      <td>57.962624</td>\n      <td>187.135406</td>\n      <td>44.076142</td>\n      <td>195.533048</td>\n      <td>241.901925</td>\n      <td>78.424251</td>\n      <td>175.358041</td>\n      <td>326.510415</td>\n      <td>439.190894</td>\n      <td>333.234676</td>\n      <td>48.880000</td>\n      <td>68.120000</td>\n      <td>31.760000</td>\n      <td>NaN</td>\n      <td>7.760000</td>\n      <td>99.22000</td>\n    </tr>\n    <tr>\n      <th>std</th>\n      <td>31.710001</td>\n      <td>374.503585</td>\n      <td>30.132857</td>\n      <td>371.929498</td>\n      <td>339.238203</td>\n      <td>458.202752</td>\n      <td>99.540935</td>\n      <td>387.040743</td>\n      <td>252.867264</td>\n      <td>363.907491</td>\n      <td>0.361478</td>\n      <td>0.877876</td>\n      <td>0.464758</td>\n      <td>NaN</td>\n      <td>0.206559</td>\n      <td>0.10328</td>\n    </tr>\n    <tr>\n      <th>min</th>\n      <td>7.533000</td>\n      <td>1.003000</td>\n      <td>14.000000</td>\n      <td>1.002000</td>\n      <td>1.000000</td>\n      <td>1.000000</td>\n      <td>1.042000</td>\n      <td>1.018000</td>\n      <td>1.006000</td>\n      <td>1.017000</td>\n      <td>48.600000</td>\n      <td>67.100000</td>\n      <td>31.400000</td>\n      <td>NaN</td>\n      <td>7.600000</td>\n      <td>99.10000</td>\n    </tr>\n    <tr>\n      <th>25%</th>\n      <td>36.155000</td>\n      <td>1.368000</td>\n      <td>19.000000</td>\n      <td>1.202000</td>\n      <td>141.475000</td>\n      <td>4.475000</td>\n      <td>114.990000</td>\n      <td>1.250000</td>\n      <td>307.000000</td>\n      <td>1.405000</td>\n      <td>48.600000</td>\n      <td>67.100000</td>\n      <td>31.400000</td>\n      <td>NaN</td>\n      <td>7.600000</td>\n      <td>99.10000</td>\n    </tr>\n    <tr>\n      <th>50%</th>\n      <td>45.176000</td>\n      <td>1.642000</td>\n      <td>29.000000</td>\n      <td>1.492000</td>\n      <td>203.456000</td>\n      <td>5.545000</td>\n      <td>190.390000</td>\n      <td>1.814000</td>\n      <td>387.000000</td>\n      <td>1.598500</td>\n      <td>48.600000</td>\n      <td>68.800000</td>\n      <td>31.400000</td>\n      <td>NaN</td>\n      <td>7.600000</td>\n      <td>99.30000</td>\n    </tr>\n    <tr>\n      <th>75%</th>\n      <td>92.227000</td>\n      <td>4.062000</td>\n      <td>63.000000</td>\n      <td>5.018000</td>\n      <td>262.507000</td>\n      <td>6.975000</td>\n      <td>240.792000</td>\n      <td>722.500000</td>\n      <td>555.500000</td>\n      <td>653.750000</td>\n      <td>49.300000</td>\n      <td>68.800000</td>\n      <td>32.300000</td>\n      <td>NaN</td>\n      <td>8.000000</td>\n      <td>99.30000</td>\n    </tr>\n    <tr>\n      <th>max</th>\n      <td>117.113000</td>\n      <td>996.000000</td>\n      <td>127.000000</td>\n      <td>1382.000000</td>\n      <td>3629.000000</td>\n      <td>4540.000000</td>\n      <td>786.000000</td>\n      <td>998.000000</td>\n      <td>995.000000</td>\n      <td>991.000000</td>\n      <td>49.300000</td>\n      <td>68.800000</td>\n      <td>32.300000</td>\n      <td>NaN</td>\n      <td>8.000000</td>\n      <td>99.30000</td>\n    </tr>\n  </tbody>\n</table>\n</div>"
     },
     "execution_count": 4,
     "metadata": {},
     "output_type": "execute_result"
    }
   ],
   "source": [
    "covid_df.describe()"
   ],
   "metadata": {
    "collapsed": false,
    "pycharm": {
     "name": "#%%\n"
    }
   }
  },
  {
   "cell_type": "code",
   "execution_count": 5,
   "outputs": [
    {
     "data": {
      "text/plain": "     gunluk_test  gunluk_vefat  toplam_vaka  toplam_vefat  toplam_iyilesen  \\\n208          NaN           NaN         18.0           NaN              NaN   \n209          NaN           NaN          6.0           NaN              NaN   \n210          NaN           NaN          5.0           NaN              NaN   \n211          NaN           NaN          1.0           NaN              NaN   \n212          NaN           NaN          1.0           NaN              NaN   \n\n     toplam_yogun_bakim  \n208                 NaN  \n209                 NaN  \n210                 NaN  \n211                 NaN  \n212                 NaN  ",
      "text/html": "<div>\n<style scoped>\n    .dataframe tbody tr th:only-of-type {\n        vertical-align: middle;\n    }\n\n    .dataframe tbody tr th {\n        vertical-align: top;\n    }\n\n    .dataframe thead th {\n        text-align: right;\n    }\n</style>\n<table border=\"1\" class=\"dataframe\">\n  <thead>\n    <tr style=\"text-align: right;\">\n      <th></th>\n      <th>gunluk_test</th>\n      <th>gunluk_vefat</th>\n      <th>toplam_vaka</th>\n      <th>toplam_vefat</th>\n      <th>toplam_iyilesen</th>\n      <th>toplam_yogun_bakim</th>\n    </tr>\n  </thead>\n  <tbody>\n    <tr>\n      <th>208</th>\n      <td>NaN</td>\n      <td>NaN</td>\n      <td>18.0</td>\n      <td>NaN</td>\n      <td>NaN</td>\n      <td>NaN</td>\n    </tr>\n    <tr>\n      <th>209</th>\n      <td>NaN</td>\n      <td>NaN</td>\n      <td>6.0</td>\n      <td>NaN</td>\n      <td>NaN</td>\n      <td>NaN</td>\n    </tr>\n    <tr>\n      <th>210</th>\n      <td>NaN</td>\n      <td>NaN</td>\n      <td>5.0</td>\n      <td>NaN</td>\n      <td>NaN</td>\n      <td>NaN</td>\n    </tr>\n    <tr>\n      <th>211</th>\n      <td>NaN</td>\n      <td>NaN</td>\n      <td>1.0</td>\n      <td>NaN</td>\n      <td>NaN</td>\n      <td>NaN</td>\n    </tr>\n    <tr>\n      <th>212</th>\n      <td>NaN</td>\n      <td>NaN</td>\n      <td>1.0</td>\n      <td>NaN</td>\n      <td>NaN</td>\n      <td>NaN</td>\n    </tr>\n  </tbody>\n</table>\n</div>"
     },
     "execution_count": 5,
     "metadata": {},
     "output_type": "execute_result"
    }
   ],
   "source": [
    "Col_toWorkon= [\"gunluk_test\",\"gunluk_vefat\",\"toplam_vaka\",\"toplam_vefat\",\"toplam_iyilesen\",\"toplam_yogun_bakim\"]\n",
    "covid_df = covid_df[Col_toWorkon]\n",
    "covid_df.tail()"
   ],
   "metadata": {
    "collapsed": false,
    "pycharm": {
     "name": "#%%\n"
    }
   }
  },
  {
   "cell_type": "code",
   "execution_count": 6,
   "outputs": [
    {
     "data": {
      "text/plain": "     gunluk_test  gunluk_vefat  toplam_vaka  toplam_vefat  toplam_iyilesen  \\\n208          0.0           0.0     0.004686           0.0              0.0   \n209          0.0           0.0     0.001378           0.0              0.0   \n210          0.0           0.0     0.001103           0.0              0.0   \n211          0.0           0.0     0.000000           0.0              0.0   \n212          0.0           0.0     0.000000           0.0              0.0   \n\n     toplam_yogun_bakim  \n208                 0.0  \n209                 0.0  \n210                 0.0  \n211                 0.0  \n212                 0.0  ",
      "text/html": "<div>\n<style scoped>\n    .dataframe tbody tr th:only-of-type {\n        vertical-align: middle;\n    }\n\n    .dataframe tbody tr th {\n        vertical-align: top;\n    }\n\n    .dataframe thead th {\n        text-align: right;\n    }\n</style>\n<table border=\"1\" class=\"dataframe\">\n  <thead>\n    <tr style=\"text-align: right;\">\n      <th></th>\n      <th>gunluk_test</th>\n      <th>gunluk_vefat</th>\n      <th>toplam_vaka</th>\n      <th>toplam_vefat</th>\n      <th>toplam_iyilesen</th>\n      <th>toplam_yogun_bakim</th>\n    </tr>\n  </thead>\n  <tbody>\n    <tr>\n      <th>208</th>\n      <td>0.0</td>\n      <td>0.0</td>\n      <td>0.004686</td>\n      <td>0.0</td>\n      <td>0.0</td>\n      <td>0.0</td>\n    </tr>\n    <tr>\n      <th>209</th>\n      <td>0.0</td>\n      <td>0.0</td>\n      <td>0.001378</td>\n      <td>0.0</td>\n      <td>0.0</td>\n      <td>0.0</td>\n    </tr>\n    <tr>\n      <th>210</th>\n      <td>0.0</td>\n      <td>0.0</td>\n      <td>0.001103</td>\n      <td>0.0</td>\n      <td>0.0</td>\n      <td>0.0</td>\n    </tr>\n    <tr>\n      <th>211</th>\n      <td>0.0</td>\n      <td>0.0</td>\n      <td>0.000000</td>\n      <td>0.0</td>\n      <td>0.0</td>\n      <td>0.0</td>\n    </tr>\n    <tr>\n      <th>212</th>\n      <td>0.0</td>\n      <td>0.0</td>\n      <td>0.000000</td>\n      <td>0.0</td>\n      <td>0.0</td>\n      <td>0.0</td>\n    </tr>\n  </tbody>\n</table>\n</div>"
     },
     "execution_count": 6,
     "metadata": {},
     "output_type": "execute_result"
    }
   ],
   "source": [
    "scaler = MinMaxScaler(copy=False)\n",
    "scaler.fit(covid_df)\n",
    "scaler.transform(covid_df)\n",
    "covid_df =covid_df.replace(np.nan,0)\n",
    "covid_df.tail()\n"
   ],
   "metadata": {
    "collapsed": false,
    "pycharm": {
     "name": "#%%\n"
    }
   }
  },
  {
   "cell_type": "code",
   "execution_count": 7,
   "outputs": [],
   "source": [
    "predict = \"gunluk_vefat\" #We want to predict daily death...\n",
    "X = np.array(covid_df.drop([predict],1))\n",
    "y = np.array(covid_df[predict])"
   ],
   "metadata": {
    "collapsed": false,
    "pycharm": {
     "name": "#%%\n"
    }
   }
  },
  {
   "cell_type": "code",
   "execution_count": 8,
   "outputs": [],
   "source": [
    "x_train,x_test,y_train, y_test = sklearn.model_selection.train_test_split(X,y,test_size=0.1)"
   ],
   "metadata": {
    "collapsed": false,
    "pycharm": {
     "name": "#%%\n"
    }
   }
  },
  {
   "cell_type": "code",
   "execution_count": 9,
   "outputs": [
    {
     "data": {
      "text/plain": "-0.09168349862727698"
     },
     "execution_count": 9,
     "metadata": {},
     "output_type": "execute_result"
    }
   ],
   "source": [
    "linear_reg = linear_model.LinearRegression()\n",
    "linear_reg.fit(x_train,y_train)\n",
    "accuracy = linear_reg.score(x_test,y_test)\n",
    "accuracy"
   ],
   "metadata": {
    "collapsed": false,
    "pycharm": {
     "name": "#%%\n"
    }
   }
  },
  {
   "cell_type": "code",
   "execution_count": 9,
   "outputs": [],
   "source": [],
   "metadata": {
    "collapsed": false,
    "pycharm": {
     "name": "#%%\n"
    }
   }
  },
  {
   "cell_type": "code",
   "execution_count": 9,
   "outputs": [],
   "source": [],
   "metadata": {
    "collapsed": false,
    "pycharm": {
     "name": "#%%\n"
    }
   }
  },
  {
   "cell_type": "code",
   "execution_count": 9,
   "outputs": [],
   "source": [],
   "metadata": {
    "collapsed": false,
    "pycharm": {
     "name": "#%%\n"
    }
   }
  }
 ],
 "metadata": {
  "kernelspec": {
   "display_name": "Python 3",
   "language": "python",
   "name": "python3"
  },
  "language_info": {
   "codemirror_mode": {
    "name": "ipython",
    "version": 2
   },
   "file_extension": ".py",
   "mimetype": "text/x-python",
   "name": "python",
   "nbconvert_exporter": "python",
   "pygments_lexer": "ipython2",
   "version": "2.7.6"
  }
 },
 "nbformat": 4,
 "nbformat_minor": 0
}